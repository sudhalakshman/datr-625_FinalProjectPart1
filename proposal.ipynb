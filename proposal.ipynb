{
 "cells": [
  {
   "cell_type": "markdown",
   "metadata": {},
   "source": [
    "# Final Project Ideas\n",
    "\n",
    "\n",
    "I will choose any one of the following projects:\n",
    "\n",
    "## 1) Amazon Pricing Data\n",
    "\n",
    "## 2) Instacart Order Data\n",
    "\n",
    "## 3) Craft Beer Data"
   ]
  },
  {
   "cell_type": "markdown",
   "metadata": {},
   "source": [
    "\n",
    "\n",
    "## 1) Amazon Pricing Data\n",
    "\n",
    "\n",
    "### Problem Statement\n",
    "Vendors selling products on Amazon may not be have their items ranked optimally based on price and shipping price. Based on pricing and ranking data for Amazon and Fulfilled by Amazon products, a model to deduce/predict an optimal price (including shipping price) will help improve the ranking of the item with respect to the price (including shipping).\n",
    "\n",
    "#### Hypothesis/Assumption\n",
    "The assumption is that the Amazon search results are ranked based on the optimal price\n",
    "\n",
    "#### Goals and Success Metrics\n",
    "Predict optimal price (including shipping) for products sold by vendors (excluding the Amazon and FBA products) so that they would rank higher compared to other Amazon products.\n",
    "\n",
    "\n",
    "\n",
    "#### Risks or Limitations\n",
    "The prediction is limited to the data set provided as described in the Data Set section below. \n",
    "\n",
    "### Data Set Description\n",
    "From ProPublica:\n",
    "\n",
    "ProPublica reporters examined Amazon’s shopping algorithm. We scraped data from the company's website to examine listings for 250 best-selling products across a wide range of categories, from electronics to household supplies, over a period of several weeks during summer 2016. We compared pricing and shipping costs for products offered by multiple vendors, including those sold by Amazon and sellers in the \"Fulfilled by Amazon\" (FBA) program. In total, we examined 6,973 vendor listings.\n",
    "\n",
    "\n",
    " \n",
    "Notes: Since I have experience with search ranking algorithms and general shopping/order fulfilment process from my previous work experience, I can better identify with this area of work"
   ]
  },
  {
   "cell_type": "markdown",
   "metadata": {},
   "source": [
    "## 2) Instacart Order Data\n",
    "\n",
    "\n",
    "\n",
    "\n",
    "### Problem Statement\n",
    "Given the shopping history of users in a popular website, we can deduce the food that is reordered by users. Based on the frequency of reorder, we can deduce the consumption of the item over a period of time i.e., user1 buys frozen peas every other week. If user would buy a larger quantity and possibly save some money if bought once a month.\n",
    "\n",
    "#### Hypothesis/Assumption\n",
    "User is a regular shopper and does not buy these products from a different website or offline.\n",
    "\n",
    "#### Goals and Success Metrics\n",
    "Predict and deduce better pricing and frequency of ordering the items from the re-order list for users.\n",
    "\n",
    "\n",
    "#### Risks or Limitations\n",
    "This may not make sense for some of the perishable items for e.g., fruits that go bad within a week\n",
    "\n",
    "\n",
    "### Data Set Description\n",
    "Instacart open-sourced 3 million orders from its databases.\n",
    "This anonymized dataset contains a sample of over 3 million grocery orders from more than 200,000 Instacart users.\n",
    "The dataset is provided as-is for non-commercial use, and can be downloaded from S3 at: https://www.instacart.com/datasets/grocery-shopping-2017 and is subject to our Terms and Conditions. For information about the contents of the files, see this data dictionary."
   ]
  },
  {
   "cell_type": "markdown",
   "metadata": {},
   "source": [
    "## 3) Craft Beer Data"
   ]
  },
  {
   "cell_type": "markdown",
   "metadata": {},
   "source": [
    "Craftcans.com maintains a continuously updated data set of (as of July 2017) 2,962 craft beers. The data contains the beer name, brewery, location, style, size, ABV, and IBUs.\n",
    "\n",
    "Possible Areas to Examine.\n",
    "\n",
    "Predict the ABV based on other factors.\n",
    "Cross-reference this data with the ratebeers.com API to predict quality of beer using the other factors provided."
   ]
  },
  {
   "cell_type": "markdown",
   "metadata": {},
   "source": [
    "This seems a little incomplete. I dont have the access to the data and the API yet. If the above 2 ideas are not in line with the goals of the final project, I can think about exploring this idea."
   ]
  }
 ],
 "metadata": {
  "kernelspec": {
   "display_name": "Python 3",
   "language": "python",
   "name": "python3"
  },
  "language_info": {
   "codemirror_mode": {
    "name": "ipython",
    "version": 3
   },
   "file_extension": ".py",
   "mimetype": "text/x-python",
   "name": "python",
   "nbconvert_exporter": "python",
   "pygments_lexer": "ipython3",
   "version": "3.6.5"
  }
 },
 "nbformat": 4,
 "nbformat_minor": 2
}
